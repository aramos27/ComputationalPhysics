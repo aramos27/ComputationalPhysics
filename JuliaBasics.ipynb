{
 "cells": [
  {
   "cell_type": "markdown",
   "id": "58842696-be8d-4d29-b841-a5a57c76259e",
   "metadata": {},
   "source": [
    "# Assorted Julia Basics"
   ]
  },
  {
   "cell_type": "markdown",
   "id": "1efbc47e-886d-427e-aff3-c367d783d9bf",
   "metadata": {},
   "source": [
    "## Hello world!"
   ]
  },
  {
   "cell_type": "code",
   "execution_count": null,
   "id": "27f28eb2-3eed-4bb9-9722-7362d7095629",
   "metadata": {},
   "outputs": [],
   "source": [
    "println(\"Hello world!\")"
   ]
  },
  {
   "cell_type": "markdown",
   "id": "3691311f-7d01-4f8a-ac2c-31790e82f071",
   "metadata": {},
   "source": [
    "## Variables"
   ]
  },
  {
   "cell_type": "code",
   "execution_count": null,
   "id": "336704d6-bbb3-43f3-955c-50e322289c8a",
   "metadata": {},
   "outputs": [],
   "source": [
    "a=42"
   ]
  },
  {
   "cell_type": "code",
   "execution_count": null,
   "id": "cecab878-b89a-4ad6-ad6a-87488a9ba8b6",
   "metadata": {},
   "outputs": [],
   "source": [
    "println(\"The value of a is \", a, \", and we can also print it this way: $a \")"
   ]
  },
  {
   "cell_type": "code",
   "execution_count": null,
   "id": "9126d958-a99c-4c52-876b-ae4ca8e4e45d",
   "metadata": {},
   "outputs": [],
   "source": [
    "b=17"
   ]
  },
  {
   "cell_type": "code",
   "execution_count": null,
   "id": "d8167ebc-b89b-45e6-af1b-e2b8c1a3407b",
   "metadata": {},
   "outputs": [],
   "source": [
    "a+b"
   ]
  },
  {
   "cell_type": "code",
   "execution_count": null,
   "id": "786c783c-6685-4cad-8037-71685a883416",
   "metadata": {},
   "outputs": [],
   "source": [
    "a*b"
   ]
  },
  {
   "cell_type": "code",
   "execution_count": null,
   "id": "41aae8f9-b2b4-4a0e-8bfb-91cf29d538c8",
   "metadata": {},
   "outputs": [],
   "source": [
    "a/b"
   ]
  },
  {
   "cell_type": "markdown",
   "id": "21fe3370-d898-4e99-bb92-a214167d77e2",
   "metadata": {},
   "source": [
    "The following gives truncated division to an integer (the ÷ sign can be conveniently typed by writing \\div followed by a tab):"
   ]
  },
  {
   "cell_type": "code",
   "execution_count": null,
   "id": "45d709a7-2250-4eb7-a54a-bc1ca1a9b7cf",
   "metadata": {},
   "outputs": [],
   "source": [
    "a÷b "
   ]
  },
  {
   "cell_type": "code",
   "execution_count": null,
   "id": "67f4a4c7-d4ce-4855-aabb-5612bbef4735",
   "metadata": {},
   "outputs": [],
   "source": [
    "a=a+14\n",
    "a"
   ]
  },
  {
   "cell_type": "markdown",
   "id": "29997f3c-6a56-4886-88d6-4858622c5189",
   "metadata": {},
   "source": [
    "## Floating point numbers of type hiearchry"
   ]
  },
  {
   "cell_type": "code",
   "execution_count": null,
   "id": "e7efde37-4a0f-469c-a647-30d67ca6a334",
   "metadata": {},
   "outputs": [],
   "source": [
    "x=3.1"
   ]
  },
  {
   "cell_type": "code",
   "execution_count": null,
   "id": "0c10d2b1-ac78-48c5-9dc9-19f18471274c",
   "metadata": {},
   "outputs": [],
   "source": [
    "typeof(x)"
   ]
  },
  {
   "cell_type": "code",
   "execution_count": null,
   "id": "15b35ede-ce29-4cc0-9155-ea8e7a8cf1e0",
   "metadata": {},
   "outputs": [],
   "source": [
    "supertype(Float64)"
   ]
  },
  {
   "cell_type": "code",
   "execution_count": null,
   "id": "09eed717-4e8e-4751-83c4-0f5afde09f55",
   "metadata": {},
   "outputs": [],
   "source": [
    "supertype(AbstractFloat)"
   ]
  },
  {
   "cell_type": "code",
   "execution_count": null,
   "id": "84e8e5b0-c68b-4aa3-97ac-6ec492e0f408",
   "metadata": {},
   "outputs": [],
   "source": [
    "supertype(Real)"
   ]
  },
  {
   "cell_type": "code",
   "execution_count": null,
   "id": "d065829d-02db-46d6-9a47-a3e7c599874e",
   "metadata": {},
   "outputs": [],
   "source": [
    "supertype(Number)"
   ]
  },
  {
   "cell_type": "code",
   "execution_count": null,
   "id": "336d91f0-8f88-4985-a0ee-e597ff3bf5e2",
   "metadata": {},
   "outputs": [],
   "source": [
    "supertypes(Int64)"
   ]
  },
  {
   "cell_type": "code",
   "execution_count": null,
   "id": "98b54e31-4c5d-416f-80e7-3ed875c6ff0d",
   "metadata": {},
   "outputs": [],
   "source": [
    "subtypes(Real)"
   ]
  },
  {
   "cell_type": "markdown",
   "id": "645c3b07-fa59-4651-a6f3-8a980d0501d3",
   "metadata": {},
   "source": [
    "## Elementary functions"
   ]
  },
  {
   "cell_type": "code",
   "execution_count": null,
   "id": "97558ccd-d4a0-485a-ad89-c3dafda3b2cb",
   "metadata": {},
   "outputs": [],
   "source": [
    "floor(3.14)"
   ]
  },
  {
   "cell_type": "code",
   "execution_count": null,
   "id": "41f0e8f6-866d-456b-bbe8-56750a74e655",
   "metadata": {},
   "outputs": [],
   "source": [
    "ceil(3.14)"
   ]
  },
  {
   "cell_type": "code",
   "execution_count": null,
   "id": "6d364623-4eb0-4040-90eb-025ae901c57f",
   "metadata": {},
   "outputs": [],
   "source": [
    "exp(3.14)"
   ]
  },
  {
   "cell_type": "code",
   "execution_count": null,
   "id": "8588bb2c-9db8-421c-81ba-48d561a0475b",
   "metadata": {},
   "outputs": [],
   "source": [
    "log(exp(1))"
   ]
  },
  {
   "cell_type": "code",
   "execution_count": null,
   "id": "ae9b605a-6dcd-4b74-8889-93369b17258b",
   "metadata": {},
   "outputs": [],
   "source": [
    "sqrt(2.0)"
   ]
  },
  {
   "cell_type": "code",
   "execution_count": null,
   "id": "c60bef08-19dc-46c7-acc0-f242b2ee2eb0",
   "metadata": {},
   "outputs": [],
   "source": [
    "abs(-2.0)"
   ]
  },
  {
   "cell_type": "markdown",
   "id": "7511eec1-b54c-42cd-a503-1c7cf8460b77",
   "metadata": {},
   "source": [
    "## Calling Julia help"
   ]
  },
  {
   "cell_type": "code",
   "execution_count": null,
   "id": "37f51576-903b-44c0-a6c7-2caf158cea1f",
   "metadata": {},
   "outputs": [],
   "source": [
    "?abs"
   ]
  },
  {
   "cell_type": "markdown",
   "id": "f6a80749-40f8-44ed-84f9-6765a0c972a7",
   "metadata": {},
   "source": [
    "## Complex Numbers"
   ]
  },
  {
   "cell_type": "code",
   "execution_count": null,
   "id": "33105873-8884-46bf-8718-6a688cc31f9e",
   "metadata": {},
   "outputs": [],
   "source": [
    "z= 3 + 4im"
   ]
  },
  {
   "cell_type": "code",
   "execution_count": null,
   "id": "ece97e20-46f9-4990-9f02-bb631aeb75bd",
   "metadata": {},
   "outputs": [],
   "source": [
    "conj(z)"
   ]
  },
  {
   "cell_type": "code",
   "execution_count": null,
   "id": "eeb02177-fc42-4911-9b43-df55b293ae30",
   "metadata": {},
   "outputs": [],
   "source": [
    "abs(z)"
   ]
  },
  {
   "cell_type": "code",
   "execution_count": null,
   "id": "09f631fe-9017-41a1-b83d-b5adcc8ec6af",
   "metadata": {},
   "outputs": [],
   "source": [
    "exp(z)"
   ]
  },
  {
   "cell_type": "markdown",
   "id": "6f5b6839-d901-4f98-8f4f-eb5c3377c80c",
   "metadata": {},
   "source": [
    "## Strings and Comments"
   ]
  },
  {
   "cell_type": "code",
   "execution_count": null,
   "id": "5ffe255b-7395-481a-b982-c41711e59f73",
   "metadata": {},
   "outputs": [],
   "source": [
    "s=\"Hello World!\""
   ]
  },
  {
   "cell_type": "code",
   "execution_count": null,
   "id": "6a970192-b36e-40c1-b71a-c11e165bae7d",
   "metadata": {},
   "outputs": [],
   "source": [
    "typeof(s)"
   ]
  },
  {
   "cell_type": "code",
   "execution_count": null,
   "id": "8529bc91-6bd3-418f-b72f-8f7b785e57dd",
   "metadata": {},
   "outputs": [],
   "source": [
    "println(\"My first string is : \",s)"
   ]
  },
  {
   "cell_type": "code",
   "execution_count": null,
   "id": "f9b78aea-5d21-407f-afba-d445176d70f8",
   "metadata": {},
   "outputs": [],
   "source": [
    "s*s"
   ]
  },
  {
   "cell_type": "code",
   "execution_count": null,
   "id": "191b96c9-364e-4dfa-8e38-73159e09bcc8",
   "metadata": {},
   "outputs": [],
   "source": [
    "s+s #Comment: this will result in an error"
   ]
  },
  {
   "cell_type": "code",
   "execution_count": null,
   "id": "d386b30b-b00a-4406-9963-e57a66a2a635",
   "metadata": {},
   "outputs": [],
   "source": [
    "#= \n",
    "\n",
    "multiline comments are avaiable like this\n",
    "\n",
    "=#"
   ]
  },
  {
   "cell_type": "code",
   "execution_count": null,
   "id": "973ff438-2c63-460f-ab56-0bb2b47e340a",
   "metadata": {},
   "outputs": [],
   "source": [
    "x=3.45\n",
    "println(\"The value of x is $x\")"
   ]
  },
  {
   "cell_type": "markdown",
   "id": "7f209ef6-e1bc-41ef-a735-8a774cd260c6",
   "metadata": {},
   "source": [
    "## Unicode characters"
   ]
  },
  {
   "cell_type": "code",
   "execution_count": null,
   "id": "4a8eda77-ef28-41b2-9054-7721fed7c940",
   "metadata": {},
   "outputs": [],
   "source": [
    "pi"
   ]
  },
  {
   "cell_type": "code",
   "execution_count": null,
   "id": "06705ab0-adec-465c-889f-50daedd6450e",
   "metadata": {},
   "outputs": [],
   "source": [
    "# a nicer way (you get this from typing \\pi followed by a tab) \n",
    "π"
   ]
  },
  {
   "cell_type": "code",
   "execution_count": null,
   "id": "c443adbf-2df9-4ef6-abf0-ea8e93fbf1f5",
   "metadata": {},
   "outputs": [],
   "source": [
    "α =1.45"
   ]
  },
  {
   "cell_type": "code",
   "execution_count": null,
   "id": "adcd6fba-a756-4e11-a41f-655933406b95",
   "metadata": {},
   "outputs": [],
   "source": [
    "sin(α)"
   ]
  },
  {
   "cell_type": "markdown",
   "id": "fae34399-b573-4e49-9f34-1085b0061dcb",
   "metadata": {},
   "source": [
    "## Vectors"
   ]
  },
  {
   "cell_type": "code",
   "execution_count": null,
   "id": "fb173c7d-aca7-4da9-9027-90fbb75cf3b8",
   "metadata": {},
   "outputs": [],
   "source": [
    "fibonacci = [1, 1, 2, 3, 5, 8, 13]"
   ]
  },
  {
   "cell_type": "code",
   "execution_count": null,
   "id": "b5d90cf5-4eb6-410b-b70b-c7ce7e0ef037",
   "metadata": {},
   "outputs": [],
   "source": [
    "fibonacci[3] # in Julia the n-th element has the index n"
   ]
  },
  {
   "cell_type": "code",
   "execution_count": null,
   "id": "7f475282-d1c6-4759-bead-688d1c2da4d2",
   "metadata": {},
   "outputs": [],
   "source": [
    "fibonacci[10] # will given an error"
   ]
  },
  {
   "cell_type": "code",
   "execution_count": null,
   "id": "ea62e23a-5c14-410e-9437-fb603743602f",
   "metadata": {},
   "outputs": [],
   "source": [
    "fibonacci[7]=42\n",
    "fibonacci"
   ]
  },
  {
   "cell_type": "code",
   "execution_count": null,
   "id": "51a38ed0-41db-426b-81d8-b925a269026f",
   "metadata": {},
   "outputs": [],
   "source": [
    "push!(fibonacci,99) #functions that change the (first) argument are by convention given a ! at the end of the name"
   ]
  },
  {
   "cell_type": "code",
   "execution_count": null,
   "id": "84ce0571-5e4c-4ace-8183-50b45ea39533",
   "metadata": {},
   "outputs": [],
   "source": [
    "length(fibonacci)"
   ]
  },
  {
   "cell_type": "code",
   "execution_count": null,
   "id": "91439d7f-e07b-400a-b0ff-d9672dbb403e",
   "metadata": {},
   "outputs": [],
   "source": [
    "pop!(fibonacci)"
   ]
  },
  {
   "cell_type": "code",
   "execution_count": null,
   "id": "ea7ced18-60fc-4bf7-8bf3-3a1d1a017bc6",
   "metadata": {},
   "outputs": [],
   "source": [
    "fibonacci"
   ]
  },
  {
   "cell_type": "code",
   "execution_count": null,
   "id": "a0b572bc-f129-47dd-a02b-8c56cb8d985d",
   "metadata": {},
   "outputs": [],
   "source": [
    "mix=[\"huhu\",42,3.14,π]"
   ]
  },
  {
   "cell_type": "code",
   "execution_count": null,
   "id": "e2dea3b2-51ae-4ee6-a2ea-ad5946f1e9a6",
   "metadata": {},
   "outputs": [],
   "source": [
    "?rand"
   ]
  },
  {
   "cell_type": "code",
   "execution_count": null,
   "id": "467838d7-0af6-4134-9475-5937b072517b",
   "metadata": {},
   "outputs": [],
   "source": [
    "zeros(3)"
   ]
  },
  {
   "cell_type": "code",
   "execution_count": null,
   "id": "9aa1d466-970e-4980-9991-db1725af82cb",
   "metadata": {},
   "outputs": [],
   "source": [
    "?ones"
   ]
  },
  {
   "cell_type": "code",
   "execution_count": null,
   "id": "634ac8d4-bb44-4734-9a70-8829493f3887",
   "metadata": {},
   "outputs": [],
   "source": [
    "sum(ones(42))"
   ]
  },
  {
   "cell_type": "markdown",
   "id": "e59b26bf-2c60-458b-a6e0-1fc7a66efa48",
   "metadata": {},
   "source": [
    "## Arrays"
   ]
  },
  {
   "cell_type": "code",
   "execution_count": null,
   "id": "9d83e726-e850-402f-b2f9-c21df09ce019",
   "metadata": {},
   "outputs": [],
   "source": [
    "M = [1 2 3; 4 5 6] #BTW: Julia is column-major  "
   ]
  },
  {
   "cell_type": "code",
   "execution_count": null,
   "id": "499a852e-9655-47ce-97c7-f0414394e0ef",
   "metadata": {},
   "outputs": [],
   "source": [
    "size(M)"
   ]
  },
  {
   "cell_type": "code",
   "execution_count": null,
   "id": "678479d6-e5ea-4988-bb90-d8b9ea9f7bb9",
   "metadata": {},
   "outputs": [],
   "source": [
    "M[1,2]"
   ]
  },
  {
   "cell_type": "code",
   "execution_count": null,
   "id": "6f8da652-2590-4857-a6bf-4f07bb11ff71",
   "metadata": {},
   "outputs": [],
   "source": [
    "M[2,3] = 0\n",
    "M"
   ]
  },
  {
   "cell_type": "code",
   "execution_count": null,
   "id": "cb42c0af-83a4-4dff-b4d3-eb49118b025c",
   "metadata": {},
   "outputs": [],
   "source": [
    "rand(3,3)"
   ]
  },
  {
   "cell_type": "code",
   "execution_count": null,
   "id": "fc107487-7bdc-4046-a556-00cc059c99d5",
   "metadata": {},
   "outputs": [],
   "source": [
    "X = zeros(1,2,3)"
   ]
  },
  {
   "cell_type": "code",
   "execution_count": null,
   "id": "c17c621b-60aa-4c76-a389-704cc1d33e8b",
   "metadata": {},
   "outputs": [],
   "source": [
    "size(X)"
   ]
  },
  {
   "cell_type": "code",
   "execution_count": null,
   "id": "f5556416-e94a-4e8e-bd67-35594cf2854d",
   "metadata": {},
   "outputs": [],
   "source": [
    "ndims(X)"
   ]
  },
  {
   "cell_type": "code",
   "execution_count": null,
   "id": "3a4faa94-6140-4b67-aced-4dcf032cdfeb",
   "metadata": {},
   "outputs": [],
   "source": [
    "A = [1 2; 3 4]"
   ]
  },
  {
   "cell_type": "code",
   "execution_count": null,
   "id": "e14de497-dd45-4561-ba20-6b9e903ee51c",
   "metadata": {},
   "outputs": [],
   "source": [
    "A*A"
   ]
  },
  {
   "cell_type": "code",
   "execution_count": null,
   "id": "284e7f45-549e-42c0-b9a0-2f092f6422f2",
   "metadata": {},
   "outputs": [],
   "source": [
    "A.*A # the . can be used to enforce elementwise operation (quite useful in many cases)"
   ]
  },
  {
   "cell_type": "code",
   "execution_count": null,
   "id": "a73bdb4e-09bf-43d5-9075-f634f33b7bdf",
   "metadata": {},
   "outputs": [],
   "source": [
    "@. A*A #Alternative form using the @. MACRO "
   ]
  },
  {
   "cell_type": "markdown",
   "id": "e3c570d1-59ff-443d-98d6-b0da9baee1da",
   "metadata": {},
   "source": [
    "## Functions"
   ]
  },
  {
   "cell_type": "code",
   "execution_count": null,
   "id": "16044165-e8be-4b0d-a2d8-3eac4a617ac1",
   "metadata": {},
   "outputs": [],
   "source": [
    "f(x)=x^2+2x"
   ]
  },
  {
   "cell_type": "code",
   "execution_count": null,
   "id": "87a98919-5f48-4789-a4b3-a30cfb1b4e2a",
   "metadata": {},
   "outputs": [],
   "source": [
    "f(4)"
   ]
  },
  {
   "cell_type": "code",
   "execution_count": null,
   "id": "c332c57e-0e2a-4763-9db8-74e8a6d6d309",
   "metadata": {},
   "outputs": [],
   "source": [
    "f(4.0)"
   ]
  },
  {
   "cell_type": "code",
   "execution_count": null,
   "id": "5ac1216d-61d5-4d9e-b257-468d83813e7e",
   "metadata": {},
   "outputs": [],
   "source": [
    "x = [1,2,3,4]\n",
    "@. f(x)"
   ]
  },
  {
   "cell_type": "markdown",
   "id": "38a3991c-2830-4683-be2e-64355e224f79",
   "metadata": {},
   "source": [
    "### Multiline function definition"
   ]
  },
  {
   "cell_type": "code",
   "execution_count": null,
   "id": "3afacae9-4160-4c76-a4a2-fa8d9617f5ad",
   "metadata": {},
   "outputs": [],
   "source": [
    "function longfunc(x)\n",
    "    a = 4x\n",
    "    return a + 2\n",
    "end"
   ]
  },
  {
   "cell_type": "code",
   "execution_count": null,
   "id": "7f5b48a4-05c9-4f84-b89e-3760b4d4c0e0",
   "metadata": {},
   "outputs": [],
   "source": [
    "longfunc(10)"
   ]
  },
  {
   "cell_type": "code",
   "execution_count": null,
   "id": "bc0d24b0-d596-4651-827c-a4d6f47959be",
   "metadata": {},
   "outputs": [],
   "source": [
    "function longfunc2(x)\n",
    "    a = 4x\n",
    "    a + 2\n",
    "end"
   ]
  },
  {
   "cell_type": "code",
   "execution_count": 17,
   "id": "feb5e6e0-a887-4388-ad78-73b1725cde50",
   "metadata": {},
   "outputs": [
    {
     "name": "stdout",
     "output_type": "stream",
     "text": [
      "search: \u001b[0m\u001b[1ma\u001b[22m\u001b[0m\u001b[1mb\u001b[22m\u001b[0m\u001b[1ms\u001b[22m \u001b[0m\u001b[1ma\u001b[22m\u001b[0m\u001b[1mb\u001b[22m\u001b[0m\u001b[1ms\u001b[22m2 \u001b[0m\u001b[1ma\u001b[22m\u001b[0m\u001b[1mb\u001b[22m\u001b[0m\u001b[1ms\u001b[22mpath \u001b[0m\u001b[1ma\u001b[22m\u001b[0m\u001b[1mb\u001b[22m\u001b[0m\u001b[1ms\u001b[22mtract \u001b[0m\u001b[1mA\u001b[22m\u001b[0m\u001b[1mb\u001b[22m\u001b[0m\u001b[1ms\u001b[22mtractSet '\u001b[0m\u001b[1ma\u001b[22m\u001b[0m\u001b[1mb\u001b[22m\u001b[0m\u001b[1ms\u001b[22mtract type' \u001b[0m\u001b[1mA\u001b[22m\u001b[0m\u001b[1mb\u001b[22m\u001b[0m\u001b[1ms\u001b[22mtractChar\n",
      "\n"
     ]
    },
    {
     "data": {
      "text/latex": [
       "\\begin{verbatim}\n",
       "abs(x)\n",
       "\\end{verbatim}\n",
       "The absolute value of \\texttt{x}.\n",
       "\n",
       "When \\texttt{abs} is applied to signed integers, overflow may occur, resulting in the return of a negative value. This overflow occurs only when \\texttt{abs} is applied to the minimum representable value of a signed integer. That is, when \\texttt{x == typemin(typeof(x))}, \\texttt{abs(x) == x < 0}, not \\texttt{-x} as might be expected.\n",
       "\n",
       "See also: \\href{@ref}{\\texttt{abs2}}, \\href{@ref}{\\texttt{unsigned}}, \\href{@ref}{\\texttt{sign}}.\n",
       "\n",
       "\\section{Examples}\n",
       "\\begin{verbatim}\n",
       "julia> abs(-3)\n",
       "3\n",
       "\n",
       "julia> abs(1 + im)\n",
       "1.4142135623730951\n",
       "\n",
       "julia> abs.(Int8[-128 -127 -126 0 126 127])  # overflow at typemin(Int8)\n",
       "1×6 Matrix{Int8}:\n",
       " -128  127  126  0  126  127\n",
       "\n",
       "julia> maximum(abs, [1, -2, 3, -4])\n",
       "4\n",
       "\\end{verbatim}\n"
      ],
      "text/markdown": [
       "```\n",
       "abs(x)\n",
       "```\n",
       "\n",
       "The absolute value of `x`.\n",
       "\n",
       "When `abs` is applied to signed integers, overflow may occur, resulting in the return of a negative value. This overflow occurs only when `abs` is applied to the minimum representable value of a signed integer. That is, when `x == typemin(typeof(x))`, `abs(x) == x < 0`, not `-x` as might be expected.\n",
       "\n",
       "See also: [`abs2`](@ref), [`unsigned`](@ref), [`sign`](@ref).\n",
       "\n",
       "# Examples\n",
       "\n",
       "```jldoctest\n",
       "julia> abs(-3)\n",
       "3\n",
       "\n",
       "julia> abs(1 + im)\n",
       "1.4142135623730951\n",
       "\n",
       "julia> abs.(Int8[-128 -127 -126 0 126 127])  # overflow at typemin(Int8)\n",
       "1×6 Matrix{Int8}:\n",
       " -128  127  126  0  126  127\n",
       "\n",
       "julia> maximum(abs, [1, -2, 3, -4])\n",
       "4\n",
       "```\n"
      ],
      "text/plain": [
       "\u001b[36m  abs(x)\u001b[39m\n",
       "\n",
       "  The absolute value of \u001b[36mx\u001b[39m.\n",
       "\n",
       "  When \u001b[36mabs\u001b[39m is applied to signed integers, overflow may occur, resulting in the\n",
       "  return of a negative value. This overflow occurs only when \u001b[36mabs\u001b[39m is applied to\n",
       "  the minimum representable value of a signed integer. That is, when \u001b[36mx ==\n",
       "  typemin(typeof(x))\u001b[39m, \u001b[36mabs(x) == x < 0\u001b[39m, not \u001b[36m-x\u001b[39m as might be expected.\n",
       "\n",
       "  See also: \u001b[36mabs2\u001b[39m, \u001b[36munsigned\u001b[39m, \u001b[36msign\u001b[39m.\n",
       "\n",
       "\u001b[1m  Examples\u001b[22m\n",
       "\u001b[1m  ≡≡≡≡≡≡≡≡\u001b[22m\n",
       "\n",
       "\u001b[36m  julia> abs(-3)\u001b[39m\n",
       "\u001b[36m  3\u001b[39m\n",
       "\u001b[36m  \u001b[39m\n",
       "\u001b[36m  julia> abs(1 + im)\u001b[39m\n",
       "\u001b[36m  1.4142135623730951\u001b[39m\n",
       "\u001b[36m  \u001b[39m\n",
       "\u001b[36m  julia> abs.(Int8[-128 -127 -126 0 126 127])  # overflow at typemin(Int8)\u001b[39m\n",
       "\u001b[36m  1×6 Matrix{Int8}:\u001b[39m\n",
       "\u001b[36m   -128  127  126  0  126  127\u001b[39m\n",
       "\u001b[36m  \u001b[39m\n",
       "\u001b[36m  julia> maximum(abs, [1, -2, 3, -4])\u001b[39m\n",
       "\u001b[36m  4\u001b[39m"
      ]
     },
     "execution_count": 17,
     "metadata": {},
     "output_type": "execute_result"
    }
   ],
   "source": [
    "?abs"
   ]
  },
  {
   "cell_type": "code",
   "execution_count": null,
   "id": "dbfe3698-2f22-47b6-b319-58202d992c81",
   "metadata": {},
   "outputs": [],
   "source": [
    "function longfunc_multiple(x)\n",
    "    a = 4x\n",
    "    b = a + 2\n",
    "    return a, b\n",
    "end"
   ]
  },
  {
   "cell_type": "code",
   "execution_count": null,
   "id": "033c0801-66b4-4394-b306-9572b43f7438",
   "metadata": {},
   "outputs": [],
   "source": [
    "longfunc_multiple(10)"
   ]
  },
  {
   "cell_type": "code",
   "execution_count": null,
   "id": "632f8450-0d7d-4a20-90f3-bd3f86f92c82",
   "metadata": {},
   "outputs": [],
   "source": [
    "c = longfunc_multiple(10)"
   ]
  },
  {
   "cell_type": "code",
   "execution_count": null,
   "id": "744999e3-8e92-4cc9-8d48-1c052e2d4279",
   "metadata": {},
   "outputs": [],
   "source": [
    "c[2]"
   ]
  },
  {
   "cell_type": "markdown",
   "id": "5bb23ab6-c205-44f8-9a03-c68628d66bc9",
   "metadata": {},
   "source": [
    "### Global vs. local variables"
   ]
  },
  {
   "cell_type": "code",
   "execution_count": null,
   "id": "4f089007-9733-4a89-8d5d-f4afbc9ff072",
   "metadata": {},
   "outputs": [],
   "source": [
    "# The following code works, but in more complex codes it is preferred to have no global variables used in functions\n",
    "y = 2\n",
    "\n",
    "function f(x)\n",
    "    2x + 3y\n",
    "end"
   ]
  },
  {
   "cell_type": "code",
   "execution_count": null,
   "id": "1a5e7e95-c231-457a-b7a5-7c7886dc1e51",
   "metadata": {},
   "outputs": [],
   "source": [
    "f(3)"
   ]
  },
  {
   "cell_type": "code",
   "execution_count": null,
   "id": "63e71d2c-e90d-4bf1-8457-87566ee7e7ff",
   "metadata": {},
   "outputs": [],
   "source": [
    "y=4\n",
    "f(3)"
   ]
  },
  {
   "cell_type": "markdown",
   "id": "50419916-9fa7-4bc1-8081-cf3a47c42ddd",
   "metadata": {},
   "source": [
    "## Ranges"
   ]
  },
  {
   "cell_type": "code",
   "execution_count": null,
   "id": "18f1dca8-faab-46d9-8d5e-17930b1b4eab",
   "metadata": {},
   "outputs": [],
   "source": [
    "1:10"
   ]
  },
  {
   "cell_type": "code",
   "execution_count": null,
   "id": "f08e1b24-a1af-458c-8ae0-09804bfb37e9",
   "metadata": {},
   "outputs": [],
   "source": [
    "typeof(1:10)"
   ]
  },
  {
   "cell_type": "code",
   "execution_count": null,
   "id": "062c3224-a847-4813-8b4d-c03ca95d2cb0",
   "metadata": {},
   "outputs": [],
   "source": [
    "x=1:10"
   ]
  },
  {
   "cell_type": "code",
   "execution_count": null,
   "id": "e7db3a34-c840-48d7-9128-1ee61c3dce35",
   "metadata": {},
   "outputs": [],
   "source": [
    "x[3]"
   ]
  },
  {
   "cell_type": "code",
   "execution_count": null,
   "id": "1d922525-5d36-4266-a62c-31d28a9a59ae",
   "metadata": {},
   "outputs": [],
   "source": [
    "v=collect(x) # generates a vector from a range   "
   ]
  },
  {
   "cell_type": "code",
   "execution_count": null,
   "id": "d4a0c37c-7f3b-4ce6-900c-a7b89d175b48",
   "metadata": {},
   "outputs": [],
   "source": [
    "collect(5:3:12) # central argument gives the step size"
   ]
  },
  {
   "cell_type": "code",
   "execution_count": null,
   "id": "e83d6d0c-0ed2-4e9c-81cf-d435c71ff283",
   "metadata": {},
   "outputs": [],
   "source": [
    "collect(range(5, 12, step=3))"
   ]
  },
  {
   "cell_type": "code",
   "execution_count": null,
   "id": "278fb955-5d1d-4cef-8a98-a364c2f15d71",
   "metadata": {},
   "outputs": [],
   "source": [
    "collect(range(5, 12, length=3))"
   ]
  },
  {
   "cell_type": "markdown",
   "id": "91c2c649-cfad-46ac-8810-319fdf9d975d",
   "metadata": {},
   "source": [
    "## For loops"
   ]
  },
  {
   "cell_type": "code",
   "execution_count": null,
   "id": "b3644c62-0a24-44e0-a6eb-5222366a27f2",
   "metadata": {},
   "outputs": [],
   "source": [
    "for j in 1:5\n",
    "    println(j)\n",
    "end"
   ]
  },
  {
   "cell_type": "code",
   "execution_count": null,
   "id": "dd19b9bd-1aa3-4230-975d-f0e77b9b185e",
   "metadata": {},
   "outputs": [],
   "source": [
    "for j in 10:-1:5\n",
    "    println(j)\n",
    "end"
   ]
  },
  {
   "cell_type": "markdown",
   "id": "61a327c3-6bac-48c4-878c-47f845e5dd3a",
   "metadata": {},
   "source": [
    "### Example: Gaussian sum "
   ]
  },
  {
   "cell_type": "code",
   "execution_count": null,
   "id": "219a79e7-2a08-45f5-bf77-311a64d27443",
   "metadata": {},
   "outputs": [],
   "source": [
    "function gaussian_sum(n)\n",
    "    s = 0\n",
    "    for i in 1:n\n",
    "        s = s + i\n",
    "    end\n",
    "    return s\n",
    "end\n",
    "\n",
    "n=50\n",
    "println(\"The sum of the integers from 1 to $n is equal to \", gaussian_sum(n) , \", matching \", n*(n+1)/2)"
   ]
  },
  {
   "cell_type": "markdown",
   "id": "c895e529-b9ee-46af-a3bd-50557095b635",
   "metadata": {},
   "source": [
    "## While loops"
   ]
  },
  {
   "cell_type": "code",
   "execution_count": null,
   "id": "0765f3eb-8b19-4ce5-afb5-0b9a278456f0",
   "metadata": {},
   "outputs": [],
   "source": [
    "i = 1\n",
    "\n",
    "while i < 1100\n",
    "    println(i)\n",
    "    i *= 2\n",
    "end"
   ]
  },
  {
   "cell_type": "markdown",
   "id": "44f6283d-8ca9-4d11-8065-11a7f1da407d",
   "metadata": {},
   "source": [
    "## Conditionals "
   ]
  },
  {
   "cell_type": "code",
   "execution_count": null,
   "id": "48b9ac5b-a1d8-40d1-9692-56351311fd69",
   "metadata": {},
   "outputs": [],
   "source": [
    "function check(x)\n",
    "    if x > 5\n",
    "        println(\"$x is greater than 5.\")\n",
    "    elseif x < 5\n",
    "        println(\"$x is smaller than  5.\")\n",
    "    else\n",
    "        println(\"$x is equal to 5.\")\n",
    "    end\n",
    "    return nothing #can be skipped \n",
    "end\n",
    "\n",
    "check(6)"
   ]
  },
  {
   "cell_type": "markdown",
   "id": "842bb7ac-b5a7-4968-b398-0c2548b8811b",
   "metadata": {},
   "source": [
    "## Functions, methods, and multiple dispatch"
   ]
  },
  {
   "cell_type": "code",
   "execution_count": null,
   "id": "c809fa9b-43a6-4d94-89d7-65c016102ff7",
   "metadata": {},
   "outputs": [],
   "source": [
    "function ftype(x::Integer)\n",
    "    println(\"Argument $x is of type Int64\")\n",
    "end\n",
    "\n",
    "function ftype(x::Float64)\n",
    "    println(\"Argument $x is of type Float64\")\n",
    "end\n",
    "\n",
    "x64::Float64=42.0\n",
    "ftype(x64)"
   ]
  },
  {
   "cell_type": "code",
   "execution_count": null,
   "id": "cab6a3ed-cc9e-4ae5-a7e8-175b93c4988a",
   "metadata": {},
   "outputs": [],
   "source": [
    "x32::Float32=12.0\n",
    "ftype(x32) # this should give an error message"
   ]
  },
  {
   "cell_type": "markdown",
   "id": "d283c87a-0960-4455-a23a-1c7dca3c466c",
   "metadata": {},
   "source": [
    "## Structures"
   ]
  },
  {
   "cell_type": "code",
   "execution_count": 1,
   "id": "be9e957f-8ab7-4197-b27a-2e2590e36d48",
   "metadata": {},
   "outputs": [],
   "source": [
    "struct Person\n",
    "    lastname\n",
    "end"
   ]
  },
  {
   "cell_type": "code",
   "execution_count": 5,
   "id": "8dd4dedb-f97d-43ea-9f68-6bb34b49dbdf",
   "metadata": {},
   "outputs": [
    {
     "data": {
      "text/plain": [
       "Person([1, 2])"
      ]
     },
     "execution_count": 5,
     "metadata": {},
     "output_type": "execute_result"
    }
   ],
   "source": [
    "my1=Person([1,2])"
   ]
  },
  {
   "cell_type": "code",
   "execution_count": 9,
   "id": "c2de55ee-dbb2-4959-8150-99dc5f1880f7",
   "metadata": {},
   "outputs": [
    {
     "ename": "LoadError",
     "evalue": "setfield!: immutable struct of type Person cannot be changed",
     "output_type": "error",
     "traceback": [
      "setfield!: immutable struct of type Person cannot be changed",
      "",
      "Stacktrace:",
      " [1] setproperty!(x::Person, f::Symbol, v::Vector{Int64})",
      "   @ Base ./Base.jl:41",
      " [2] top-level scope",
      "   @ In[9]:1"
     ]
    }
   ],
   "source": [
    "my1.lastname=[1,3,4]"
   ]
  },
  {
   "cell_type": "code",
   "execution_count": 15,
   "id": "b5413d9b-8cd5-4e79-a914-e697355d6116",
   "metadata": {},
   "outputs": [
    {
     "data": {
      "text/plain": [
       "2"
      ]
     },
     "execution_count": 15,
     "metadata": {},
     "output_type": "execute_result"
    }
   ],
   "source": [
    "pop!(my1.lastname)"
   ]
  },
  {
   "cell_type": "code",
   "execution_count": 16,
   "id": "7e3acde9-4156-4036-9208-e6556f85b168",
   "metadata": {},
   "outputs": [
    {
     "data": {
      "text/plain": [
       "Person([4])"
      ]
     },
     "execution_count": 16,
     "metadata": {},
     "output_type": "execute_result"
    }
   ],
   "source": [
    "my1"
   ]
  },
  {
   "cell_type": "markdown",
   "id": "b9bc9f20-acd6-485b-9765-f3f7bdbda786",
   "metadata": {},
   "source": [
    "## Plotting "
   ]
  },
  {
   "cell_type": "code",
   "execution_count": null,
   "id": "65bfab65-1929-4d4d-9b51-f9f12b49ef28",
   "metadata": {},
   "outputs": [],
   "source": [
    "using Plots\n",
    "\n",
    "x=range(0,4π,length=100)\n",
    "y=@.sin(x) # the @. macro broadcasts every operation\n",
    "pplot(x,y)"
   ]
  },
  {
   "cell_type": "code",
   "execution_count": null,
   "id": "585990ce-3926-40cb-b486-d994792c9059",
   "metadata": {},
   "outputs": [],
   "source": [
    "f(x)=cos(x)\n",
    "plot!(f,x)"
   ]
  },
  {
   "cell_type": "markdown",
   "id": "71eda540-f6a4-44f8-8033-3e991708b5ca",
   "metadata": {},
   "source": [
    "## For refined plots and animations: use Maki"
   ]
  },
  {
   "cell_type": "code",
   "execution_count": null,
   "id": "2eb573ab-8325-4ddd-ae3a-10a735876609",
   "metadata": {},
   "outputs": [],
   "source": [
    "#=\n",
    "\n",
    " One may have to first load GLMakie via Julia's package manager, called pkg:\n",
    " - enter pkg from REPL (read-evaluate-print-loop) by typing: ]\n",
    " - then type: add GLMakie\n",
    " - wait a while ... unit installation has finished....\n",
    " - return back to REPL by pressing the backspace key\n",
    "\n",
    "=#\n",
    "\n",
    "using GLMakie\n",
    "\n",
    "xs = range(0, 3π, length=200)\n",
    "ys = range(0, 2π, length=200)\n",
    "zs = zeros(200,200)\n",
    "for i in 1:200\n",
    "    for j in 1:200\n",
    "        zs[i,j] = sin(xs[i]) * cos(ys[j]) \n",
    "    end \n",
    "end \n",
    "\n",
    "GLMakie.heatmap(xs,ys,zs)\n"
   ]
  },
  {
   "cell_type": "markdown",
   "id": "82630062-09bf-4f49-b599-4c09ec9694ce",
   "metadata": {
    "jp-MarkdownHeadingCollapsed": true
   },
   "source": [
    "# Much more on Julia and its rather rich environment: check out the web"
   ]
  }
 ],
 "metadata": {
  "kernelspec": {
   "display_name": "Julia 1.10.4",
   "language": "julia",
   "name": "julia-1.10"
  },
  "language_info": {
   "file_extension": ".jl",
   "mimetype": "application/julia",
   "name": "julia",
   "version": "1.10.4"
  }
 },
 "nbformat": 4,
 "nbformat_minor": 5
}
